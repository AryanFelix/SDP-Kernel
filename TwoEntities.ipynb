{
    "cells": [
        {
            "cell_type": "code",
            "execution_count": 3,
            "source": [
                "import xml.etree.ElementTree as ET\r\n",
                "import re\r\n",
                "import spacy\r\n",
                "import scispacy\r\n",
                "import spacy_transformers\r\n",
                "import numpy as np\r\n",
                "import networkx as nx\r\n",
                "\r\n",
                "from sklearn.svm import SVC\r\n",
                "from sklearn.model_selection import GridSearchCV\r\n",
                "from sklearn.pipeline import Pipeline\r\n",
                "from sklearn.metrics import f1_score, precision_score, recall_score\r\n",
                "from nltk.tag import pos_tag\r\n",
                "from spacy import displacy"
            ],
            "outputs": [],
            "metadata": {}
        },
        {
            "cell_type": "code",
            "execution_count": 4,
            "source": [
                "def stringReplace(object):\r\n",
                "    temp = object.group(0)\r\n",
                "    temp = temp[0] + \" \" + temp[1]\r\n",
                "    return temp"
            ],
            "outputs": [],
            "metadata": {}
        },
        {
            "cell_type": "code",
            "execution_count": 5,
            "source": [
                "def dataPreprocess(root):\r\n",
                "    docs = []\r\n",
                "    entities = []\r\n",
                "    vocabulary = []\r\n",
                "    sentences = []\r\n",
                "    entVals = []\r\n",
                "    yLabel = []\r\n",
                "    for x in root.findall(\"./document/sentence\"):\r\n",
                "        count = 0\r\n",
                "        yCount = 0\r\n",
                "        sentence = x.attrib[\"text\"]\r\n",
                "        sentence = re.sub('[a-z]\\(', stringReplace, sentence)\r\n",
                "        sentence = re.sub('[a-z]\\.', stringReplace, sentence)\r\n",
                "        sentence = re.sub('[a-z]\\-', stringReplace, sentence)\r\n",
                "        sentence = re.sub('\\-[a-z]', stringReplace, sentence)\r\n",
                "        sentence = re.sub('[A-Z]\\-', stringReplace, sentence)\r\n",
                "        sentence = re.sub('[A-Z]\\(', stringReplace, sentence)\r\n",
                "        sentence = re.sub('\\-[A-Z]', stringReplace, sentence)\r\n",
                "        sentence = re.sub('[0-9]\\-', stringReplace, sentence)\r\n",
                "        sentence = re.sub('\\-[0-9]', stringReplace, sentence)\r\n",
                "        sentence = re.sub('[0-9]\\(', stringReplace, sentence)\r\n",
                "        temp = sentence\r\n",
                "        ents = {}\r\n",
                "        vals = {}\r\n",
                "        yTemp = []\r\n",
                "        for i in x.findall(\"./entity\"):\r\n",
                "            if i.attrib[\"text\"] not in ents:\r\n",
                "                tempEnt = i.attrib[\"text\"]\r\n",
                "                tempEnt = re.sub('[a-z]\\(', stringReplace, tempEnt)\r\n",
                "                tempEnt = re.sub('[a-z]\\.', stringReplace, tempEnt)\r\n",
                "                tempEnt = re.sub('[a-z]\\-', stringReplace, tempEnt)\r\n",
                "                tempEnt = re.sub('\\-[a-z]', stringReplace, tempEnt)\r\n",
                "                tempEnt = re.sub('[A-Z]\\-', stringReplace, tempEnt)\r\n",
                "                tempEnt = re.sub('[A-Z]\\(', stringReplace, tempEnt)\r\n",
                "                tempEnt = re.sub('\\-[A-Z]', stringReplace, tempEnt)\r\n",
                "                tempEnt = re.sub('[0-9]\\-', stringReplace, tempEnt)\r\n",
                "                tempEnt = re.sub('\\-[0-9]', stringReplace, tempEnt)\r\n",
                "                tempEnt = re.sub('[0-9]\\(', stringReplace, tempEnt) \r\n",
                "                ents[tempEnt] = [\"BRAIN_REGION\"]\r\n",
                "            tempSen = sentence\r\n",
                "            sentence = sentence.replace(tempEnt, \"ENTITY\" + str(count))\r\n",
                "            # if tempSen != sentence:\r\n",
                "            vals[\"ENTITY\" + str(count)] = tempEnt\r\n",
                "            count += 1\r\n",
                "            if count == 3:\r\n",
                "                break\r\n",
                "        for i in x.findall(\"./pair\"):\r\n",
                "            yValTemp = i.attrib[\"interaction\"]\r\n",
                "            if yValTemp == \"True\":\r\n",
                "                yTemp.append(1)\r\n",
                "            else:\r\n",
                "                yTemp.append(0)\r\n",
                "            yCount += 1\r\n",
                "            if yCount == 2:\r\n",
                "                break\r\n",
                "        if (count == 3 or count < 2) and (yCount == 2 or yCount < 1):\r\n",
                "            continue\r\n",
                "        keyList = list(ents.keys())\r\n",
                "        if (len(keyList) == 1):\r\n",
                "            continue\r\n",
                "        if (keyList[0] in keyList[1]) or (keyList[1] in keyList[0]):\r\n",
                "            continue\r\n",
                "        for i in ents:\r\n",
                "            vocabulary.append(i)\r\n",
                "        for i in sentence.split():\r\n",
                "            if i != \"ENTITY\":\r\n",
                "                if i not in vocabulary:\r\n",
                "                    vocabulary.append(i)\r\n",
                "        yLabel.append(yTemp[0])\r\n",
                "        docs.append(sentence)\r\n",
                "        entVals.append(vals)\r\n",
                "        sentences.append(temp)\r\n",
                "        entities.append(ents)\r\n",
                "    return yLabel, docs, entVals, sentences, entities"
            ],
            "outputs": [],
            "metadata": {}
        },
        {
            "cell_type": "code",
            "execution_count": 6,
            "source": [
                "def shortestPathsCalculator(yLabel, docs, entVals, sentences, entities):\r\n",
                "    shortestPaths = []\r\n",
                "    dependecies = []\r\n",
                "    nums = []\r\n",
                "    _docs = docs\r\n",
                "    for sr, i in enumerate(_docs):\r\n",
                "        # print(i)\r\n",
                "        document = nlp(i)\r\n",
                "        edges = []\r\n",
                "        deps = []\r\n",
                "        for token in document:\r\n",
                "            for child in token.children:\r\n",
                "                edges.append(('{0}'.format(token.lower_), '{0}'.format(child.lower_)))\r\n",
                "                deps.append(('{0}'.format(token.dep_), '{0}'.format(child.dep_)))\r\n",
                "        graph = nx.Graph(edges)\r\n",
                "        entity1 = 'entity0'\r\n",
                "        entity2 = 'entity1'\r\n",
                "        # print(sr)\r\n",
                "        # print(edges)\r\n",
                "        try:\r\n",
                "            path = nx.shortest_path(graph, source=entity1, target=entity2)\r\n",
                "            directions = []\r\n",
                "            dirDeps = []\r\n",
                "            for xi, x in enumerate(edges):\r\n",
                "                for y in range(len(path) - 1):\r\n",
                "                    if path[y] in x:\r\n",
                "                        if path[y] == x[0]:\r\n",
                "                            if path[y + 1] == x[1]:\r\n",
                "                                directions.append(\"->\")\r\n",
                "                                dirDeps.append([deps[xi][0], deps[xi][1]])\r\n",
                "                            else:\r\n",
                "                                continue\r\n",
                "                        else:\r\n",
                "                            if path[y + 1] == x[0]:\r\n",
                "                                directions.append(\"<-\")\r\n",
                "                                dirDeps.append([deps[xi][1], deps[xi][0]])\r\n",
                "                            else:\r\n",
                "                                continue\r\n",
                "                    else:\r\n",
                "                        continue\r\n",
                "            finalPath = []\r\n",
                "            for x in range(len(path)):\r\n",
                "                finalPath.append(path[x])\r\n",
                "                if len(directions) > x:\r\n",
                "                    finalPath.append(directions[x])\r\n",
                "        except nx.NetworkXNoPath:\r\n",
                "            del yLabel[sr]\r\n",
                "            del docs[sr]\r\n",
                "            del sentences[sr]\r\n",
                "            del entVals[sr]\r\n",
                "            del entities[sr]\r\n",
                "            continue   \r\n",
                "        # print(path)\r\n",
                "        nums.append(sr)\r\n",
                "        shortestPaths.append(finalPath)\r\n",
                "        dependecies.append(dirDeps)\r\n",
                "    print(len(nums), len(shortestPaths), len(dependecies), len(yLabel), len(docs), len(sentences), len(entVals), len(entities))\r\n",
                "    return shortestPaths, dependecies"
            ],
            "outputs": [],
            "metadata": {}
        },
        {
            "cell_type": "code",
            "execution_count": 7,
            "source": [
                "def entityLabels(sentences, entities):\r\n",
                "    for sr, x in enumerate(sentences):\r\n",
                "        document = nlp(x)\r\n",
                "        for d in document.ents:\r\n",
                "            for i in entities[sr].keys():\r\n",
                "                if d.text in i:\r\n",
                "                    entities[sr][i].append(d.label_)"
            ],
            "outputs": [],
            "metadata": {}
        },
        {
            "cell_type": "code",
            "execution_count": 8,
            "source": [
                "class Tree:\r\n",
                "    def __init__ (self):\r\n",
                "        self.nodes = []\r\n",
                "    \r\n",
                "    def addNodes(self, nodeList, n, entVals, entities, dependencies):\r\n",
                "        if len(nodeList) == 3:\r\n",
                "            flag = 0\r\n",
                "            relCount = 0\r\n",
                "            for i in range(3):\r\n",
                "                if nodeList[i] == \"<-\" or nodeList[i] == \"->\":\r\n",
                "                    self.nodes.append([nodeList[i], dependencies[n][relCount][0], dependencies[n][relCount][1]])\r\n",
                "                    relCount += 1\r\n",
                "                else:\r\n",
                "                    ent = entVals[n][\"ENTITY\" + str(flag)]\r\n",
                "                    self.nodes.append([ent, \"NN\", \"NOUN\", entities[n][ent]])\r\n",
                "                    flag = 1\r\n",
                "        else:\r\n",
                "            relCount = 0\r\n",
                "            for i in range(len(nodeList)):\r\n",
                "                # if (nodeList[i] == \"<-\"):\r\n",
                "                #     self.nodes.append([nodeList[i], dependencies[n][relCount][0]])\r\n",
                "                #     relCount += 1\r\n",
                "                # elif ( nodeList[i] == \"->\"):\r\n",
                "                #     self.nodes.append([nodeList[i], dependencies[n][relCount][1]])\r\n",
                "\r\n",
                "                # if (nodeList[i] == \"<-\" or nodeList[i] == \"->\"):\r\n",
                "                #     self.nodes.append([nodeList[i]])\r\n",
                "\r\n",
                "                if (nodeList[i] == \"<-\" or nodeList[i] == \"->\"):\r\n",
                "                    continue\r\n",
                "                \r\n",
                "                elif (nodeList[i] == \"entity0\"):\r\n",
                "                    ent = entVals[n][\"ENTITY0\"]\r\n",
                "                    self.nodes.append([ent, \"NN\", \"NOUN\", entities[n][ent]])\r\n",
                "                elif (nodeList[i] == \"entity1\"):\r\n",
                "                    ent = entVals[n][\"ENTITY1\"]\r\n",
                "                    self.nodes.append([ent, \"NN\", \"NOUN\", entities[n][ent]])\r\n",
                "                else:\r\n",
                "                    test = nlp(nodeList[i])\r\n",
                "                    for token in test:\r\n",
                "                        self.nodes.append([token.text, token.tag_, token.pos_])\r\n",
                "            \r\n",
                "    def displayNodes(self):\r\n",
                "        print(self.nodes)"
            ],
            "outputs": [],
            "metadata": {}
        },
        {
            "cell_type": "code",
            "execution_count": 9,
            "source": [
                "def similarityFunction(x, y):\r\n",
                "    if len(x) != len(y):\r\n",
                "        return 0\r\n",
                "    else:\r\n",
                "        simScore = 1\r\n",
                "        for (xVal, yVal) in zip(x, y):\r\n",
                "            tempSimScore = 0\r\n",
                "            if len(xVal) == len(yVal):\r\n",
                "                for i in range(len(xVal)):\r\n",
                "                    if isinstance(xVal[i], list):\r\n",
                "                        for j in xVal[i]:\r\n",
                "                            if j in yVal[i]:\r\n",
                "                                tempSimScore += 1\r\n",
                "                    elif xVal[i] == yVal[i]:\r\n",
                "                        tempSimScore += 1\r\n",
                "            simScore *= tempSimScore\r\n",
                "        return simScore\r\n",
                "\r\n",
                "def treeKernel(X1, X2):\r\n",
                "    gram_matrix = np.zeros((X1.shape[0], X2.shape[0]))\r\n",
                "    for i, x1 in enumerate(X1):\r\n",
                "        for j, x2 in enumerate(X2):\r\n",
                "            gram_matrix[i, j] = similarityFunction(x1.nodes, x2.nodes)\r\n",
                "    return gram_matrix"
            ],
            "outputs": [],
            "metadata": {}
        },
        {
            "cell_type": "code",
            "execution_count": 10,
            "source": [
                "tree = ET.parse('data/train/train.xml')\r\n",
                "root = tree.getroot()\r\n",
                "print(root.tag)"
            ],
            "outputs": [
                {
                    "output_type": "stream",
                    "name": "stdout",
                    "text": [
                        "corpus\n"
                    ]
                }
            ],
            "metadata": {}
        },
        {
            "cell_type": "code",
            "execution_count": 11,
            "source": [
                "yLabel, docs, entVals, sentences, entities = dataPreprocess(root)"
            ],
            "outputs": [],
            "metadata": {}
        },
        {
            "cell_type": "code",
            "execution_count": 12,
            "source": [
                "print(len(docs), len(yLabel))"
            ],
            "outputs": [
                {
                    "output_type": "stream",
                    "name": "stdout",
                    "text": [
                        "2001 2001\n"
                    ]
                }
            ],
            "metadata": {}
        },
        {
            "cell_type": "code",
            "execution_count": 13,
            "source": [
                "nlp = spacy.load(\"en_ner_bionlp13cg_md\")"
            ],
            "outputs": [],
            "metadata": {}
        },
        {
            "cell_type": "code",
            "execution_count": 14,
            "source": [
                "entityLabels(sentences, entities)"
            ],
            "outputs": [],
            "metadata": {}
        },
        {
            "cell_type": "code",
            "execution_count": 15,
            "source": [
                "for i in range(2):\r\n",
                "    shortestPaths, dependencies = shortestPathsCalculator(yLabel, docs, entVals, sentences, entities)"
            ],
            "outputs": [
                {
                    "output_type": "stream",
                    "name": "stdout",
                    "text": [
                        "1999 1999 1999 2000 2000 2000 2000 2000\n",
                        "2000 2000 2000 2000 2000 2000 2000 2000\n"
                    ]
                }
            ],
            "metadata": {}
        },
        {
            "cell_type": "code",
            "execution_count": 16,
            "source": [
                "xObjects = []\r\n",
                "for i in range(len(shortestPaths)):\r\n",
                "    obj = Tree()\r\n",
                "    obj.addNodes(shortestPaths[i], i, entVals, entities, dependencies)\r\n",
                "    xObjects.append(obj)"
            ],
            "outputs": [],
            "metadata": {}
        },
        {
            "cell_type": "code",
            "execution_count": 17,
            "source": [
                "xObjects = np.array(xObjects)\r\n",
                "yLabel = np.array(yLabel)"
            ],
            "outputs": [],
            "metadata": {}
        },
        {
            "cell_type": "markdown",
            "source": [
                "# VALIDATION AND OPTIMIZATION"
            ],
            "metadata": {}
        },
        {
            "cell_type": "code",
            "execution_count": 32,
            "source": [
                "def SVM(count, C):\r\n",
                "    classifier = SVC(kernel = \"precomputed\", C = C)\r\n",
                "    model = classifier.fit(treeKernel(xObjectsTrain, xObjectsTrain), yLabelTrain)\r\n",
                "    pred = model.predict(treeKernel(xObjectsValid, xObjectsTrain))\r\n",
                "    results[count][0] = C\r\n",
                "    results[count][1] = model.score(treeKernel(xObjectsValid, xObjectsTrain), yLabelValid)\r\n",
                "    results[count][2] = f1_score(yLabelValid, pred)\r\n",
                "    results[count][3] = precision_score(yLabelValid, pred)\r\n",
                "    results[count][4] = recall_score(yLabelValid, pred)"
            ],
            "outputs": [],
            "metadata": {}
        },
        {
            "cell_type": "code",
            "execution_count": 37,
            "source": [
                "# xObjectsTrain = xObjects[:1800]\r\n",
                "# yLabelTrain = yLabel[:1800]\r\n",
                "# xObjectsValid = xObjects[1800:]\r\n",
                "# yLabelValid = yLabel[1800:]\r\n",
                "xObjectsArray = np.array_split(xObjects, 10)\r\n",
                "yLabelArray = np.array_split(yLabel, 10)\r\n",
                "fold = 0\r\n",
                "finalC = 0\r\n",
                "finalF1 = 0\r\n",
                "for z in range(10):\r\n",
                "    xObjectsValid = xObjectsArray[z]\r\n",
                "    yLabelValid = yLabelArray[z]\r\n",
                "    xObjectsTrain = np.array([])\r\n",
                "    yLabelTrain = np.array([])\r\n",
                "    for j in range(10):\r\n",
                "        if j == z:\r\n",
                "            continue\r\n",
                "        else:\r\n",
                "            xObjectsTrain = np.concatenate((xObjectsTrain, xObjectsArray[j]))\r\n",
                "            yLabelTrain = np.concatenate((yLabelTrain, yLabelArray[j]))\r\n",
                "    c = [0.01, 0.05, 0.1, 0.25, 0.5, 0.75, 1]\r\n",
                "    results = np.zeros((7, 5))\r\n",
                "    count = 0\r\n",
                "    for i in c:\r\n",
                "        SVM(count, i)\r\n",
                "        count += 1\r\n",
                "    bestC = 0\r\n",
                "    bestF1 = 0\r\n",
                "    for i in range(7):\r\n",
                "        if results[i][2] > bestF1:\r\n",
                "            bestC = results[i][0]\r\n",
                "            bestF1 = results[i][2]\r\n",
                "    if bestF1 > finalF1:\r\n",
                "        finalC = bestC\r\n",
                "        fold = z\r\n",
                "        finalF1 = bestF1\r\n",
                "    print(\"Fold: {}\\t\\tC: {}\\t\\tF1: {}\".format(z, bestC, bestF1))\r\n",
                "print(\"Best Fold: {}\\t\\tC: {}\\t\\tF1: {}\".format(fold, finalC, finalF1))"
            ],
            "outputs": [
                {
                    "output_type": "stream",
                    "name": "stdout",
                    "text": [
                        "Fold: 0\t\tC: 0.25\t\tF1: 0.5217391304347826\n",
                        "Fold: 1\t\tC: 0.1\t\tF1: 0.5289256198347108\n",
                        "Fold: 2\t\tC: 0.05\t\tF1: 0.48648648648648646\n",
                        "Fold: 3\t\tC: 0.05\t\tF1: 0.5238095238095237\n",
                        "Fold: 4\t\tC: 0.1\t\tF1: 0.4473684210526316\n",
                        "Fold: 5\t\tC: 0.75\t\tF1: 0.42696629213483145\n",
                        "Fold: 6\t\tC: 0.1\t\tF1: 0.4090909090909091\n",
                        "Fold: 7\t\tC: 0.01\t\tF1: 0.48275862068965514\n",
                        "Fold: 8\t\tC: 0.1\t\tF1: 0.4848484848484848\n",
                        "Fold: 9\t\tC: 0.1\t\tF1: 0.5176470588235295\n",
                        "Best Fold: 1\t\tC: 0.1\t\tF1: 0.5289256198347108\n"
                    ]
                }
            ],
            "metadata": {}
        },
        {
            "cell_type": "markdown",
            "source": [
                "# Train Using Best Parameters"
            ],
            "metadata": {}
        },
        {
            "cell_type": "code",
            "execution_count": 38,
            "source": [
                "xObjectsValid = xObjectsArray[fold]\r\n",
                "yLabelValid = yLabelArray[fold]\r\n",
                "xObjectsTrain = np.array([])\r\n",
                "yLabelTrain = np.array([])\r\n",
                "for j in range(10):\r\n",
                "    if j == fold:\r\n",
                "        continue\r\n",
                "    else:\r\n",
                "        xObjectsTrain = np.concatenate((xObjectsTrain, xObjectsArray[j]))\r\n",
                "        yLabelTrain = np.concatenate((yLabelTrain, yLabelArray[j]))"
            ],
            "outputs": [],
            "metadata": {}
        },
        {
            "cell_type": "code",
            "execution_count": 39,
            "source": [
                "classifier = SVC(kernel = \"precomputed\", C = finalC, gamma = \"scale\")\r\n",
                "model = classifier.fit(treeKernel(xObjectsTrain, xObjectsTrain), yLabelTrain)"
            ],
            "outputs": [],
            "metadata": {}
        },
        {
            "cell_type": "markdown",
            "source": [
                "# Testing"
            ],
            "metadata": {}
        },
        {
            "cell_type": "code",
            "execution_count": 40,
            "source": [
                "treeTest = ET.parse('data/test/WhiteTextUnseenEval.xml')\r\n",
                "rootTest = treeTest.getroot()\r\n",
                "print(rootTest.tag)"
            ],
            "outputs": [
                {
                    "output_type": "stream",
                    "name": "stdout",
                    "text": [
                        "corpus\n"
                    ]
                }
            ],
            "metadata": {}
        },
        {
            "cell_type": "code",
            "execution_count": 41,
            "source": [
                "yLabelTest, docsTest, entValsTest, sentencesTest, entitiesTest = dataPreprocess(rootTest)"
            ],
            "outputs": [],
            "metadata": {}
        },
        {
            "cell_type": "code",
            "execution_count": 42,
            "source": [
                "print(len(docsTest), len(yLabelTest))"
            ],
            "outputs": [
                {
                    "output_type": "stream",
                    "name": "stdout",
                    "text": [
                        "1028 1028\n"
                    ]
                }
            ],
            "metadata": {}
        },
        {
            "cell_type": "code",
            "execution_count": 43,
            "source": [
                "entityLabels(sentencesTest, entitiesTest)"
            ],
            "outputs": [],
            "metadata": {}
        },
        {
            "cell_type": "code",
            "execution_count": 44,
            "source": [
                "for i in range(2):\r\n",
                "    shortestPathsTest, dependenciesTest = shortestPathsCalculator(yLabelTest, docsTest, entValsTest, sentencesTest, entitiesTest)"
            ],
            "outputs": [
                {
                    "output_type": "stream",
                    "name": "stdout",
                    "text": [
                        "1028 1028 1028 1028 1028 1028 1028 1028\n",
                        "1028 1028 1028 1028 1028 1028 1028 1028\n"
                    ]
                }
            ],
            "metadata": {}
        },
        {
            "cell_type": "code",
            "execution_count": 45,
            "source": [
                "xObjectsTest = []\r\n",
                "for i in range(len(shortestPathsTest)):\r\n",
                "    obj = Tree()\r\n",
                "    obj.addNodes(shortestPathsTest[i], i, entValsTest, entitiesTest, dependenciesTest)\r\n",
                "    xObjectsTest.append(obj)"
            ],
            "outputs": [],
            "metadata": {}
        },
        {
            "cell_type": "code",
            "execution_count": 46,
            "source": [
                "xObjectsTest = np.array(xObjectsTest)\r\n",
                "yLabelTest = np.array(yLabelTest)"
            ],
            "outputs": [],
            "metadata": {}
        },
        {
            "cell_type": "code",
            "execution_count": 47,
            "source": [
                "pred = model.predict(treeKernel(xObjectsTest, xObjectsTrain))\r\n",
                "accuracy = model.score(treeKernel(xObjectsTest, xObjectsTrain), yLabelTest)\r\n",
                "f1 = f1_score(yLabelTest, pred)\r\n",
                "precision = precision_score(yLabelTest, pred)\r\n",
                "recall = recall_score(yLabelTest, pred)"
            ],
            "outputs": [],
            "metadata": {}
        },
        {
            "cell_type": "code",
            "execution_count": 48,
            "source": [
                "print(\"    Accuracy     F1     Precision    Recall\")\r\n",
                "print(\"{:10.4f} {:10.4f} {:10.4f} {:10.4f}\".format(accuracy, f1, precision, recall))"
            ],
            "outputs": [
                {
                    "output_type": "stream",
                    "name": "stdout",
                    "text": [
                        "    Accuracy     F1     Precision    Recall\n",
                        "    0.7354     0.5090     0.6157     0.4338\n"
                    ]
                }
            ],
            "metadata": {}
        }
    ],
    "metadata": {
        "orig_nbformat": 4,
        "language_info": {
            "name": "python",
            "version": "3.8.8",
            "mimetype": "text/x-python",
            "codemirror_mode": {
                "name": "ipython",
                "version": 3
            },
            "pygments_lexer": "ipython3",
            "nbconvert_exporter": "python",
            "file_extension": ".py"
        },
        "kernelspec": {
            "name": "python3",
            "display_name": "Python 3.8.8 64-bit"
        },
        "interpreter": {
            "hash": "1baa965d5efe3ac65b79dfc60c0d706280b1da80fedb7760faf2759126c4f253"
        }
    },
    "nbformat": 4,
    "nbformat_minor": 2
}